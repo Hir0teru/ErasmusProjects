{
 "cells": [
  {
   "cell_type": "code",
   "execution_count": 1,
   "metadata": {},
   "outputs": [],
   "source": [
    "import gurobi as gb\n",
    "import networkx as nx\n",
    "import matplotlib.pyplot as plt\n",
    "import random\n",
    "\n",
    "from networkx import bipartite\n",
    "from IPython.display import SVG"
   ]
  },
  {
   "cell_type": "code",
   "execution_count": 2,
   "metadata": {},
   "outputs": [],
   "source": [
    "random.seed(42)"
   ]
  },
  {
   "cell_type": "markdown",
   "metadata": {},
   "source": [
    "# Generating complete bipartite graph"
   ]
  },
  {
   "cell_type": "code",
   "execution_count": 3,
   "metadata": {},
   "outputs": [
    {
     "name": "stdout",
     "output_type": "stream",
     "text": [
      "The graph has 8 nodes and 12 edges.\n"
     ]
    }
   ],
   "source": [
    "candidate_location_nb = 2\n",
    "demand_nb = 6\n",
    "\n",
    "G = bipartite.random_graph(candidate_location_nb, demand_nb, 1)\n",
    "print(\"The graph has\", G.number_of_nodes(),\n",
    "      \"nodes and\", G.number_of_edges(), \"edges.\")"
   ]
  },
  {
   "cell_type": "code",
   "execution_count": 4,
   "metadata": {},
   "outputs": [
    {
     "data": {
      "image/png": "[encoded data removed]",
      "text/plain": [
       "<matplotlib.figure.Figure at 0x7f98b9b2b710>"
      ]
     },
     "metadata": {},
     "output_type": "display_data"
    }
   ],
   "source": [
    "%matplotlib inline\n",
    "pos = nx.spring_layout(G)\n",
    "nx.draw(G,pos, node_color='#A0CBE2', width=1, node_size=1200, \n",
    "        with_labels=True, hold=None, font_size=8)"
   ]
  },
  {
   "cell_type": "code",
   "execution_count": 5,
   "metadata": {},
   "outputs": [],
   "source": [
    "c_nodes, d_nodes = bipartite.sets(G)"
   ]
  },
  {
   "cell_type": "markdown",
   "metadata": {},
   "source": [
    "# Setting the graph attributes for our problem"
   ]
  },
  {
   "cell_type": "code",
   "execution_count": 6,
   "metadata": {},
   "outputs": [],
   "source": [
    "min_demand = 100\n",
    "max_demand = 500\n",
    "demand = {i: random.randint(min_demand, max_demand) for i in d_nodes}\n",
    "nx.set_node_attributes(G, demand, name=\"demand\")\n",
    "\n",
    "min_fixed_charge = 1000\n",
    "max_fixed_charge = 10000\n",
    "fixed_charge = {i: random.randint(min_fixed_charge, max_fixed_charge) \\\n",
    "                for i in c_nodes}\n",
    "nx.set_node_attributes(G, fixed_charge, name=\"fixed charge\")\n",
    "\n",
    "min_distance = 50\n",
    "max_distance = 100\n",
    "distance = {(i,j): random.randint(min_distance, max_distance) \\\n",
    "            for i, j in G.edges(c_nodes)}\n",
    "nx.set_edge_attributes(G, distance, name=\"distance\")\n",
    "\n",
    "min_D = 60\n",
    "max_D = 80    \n",
    "D = {i: random.randint(min_D, max_D) for i in d_nodes}\n",
    "nx.set_node_attributes(G, D, name=\"D\")\n",
    "\n",
    "v = random.randint(10, 50)\n",
    "\n",
    "p = random.randint(1, candidate_location_nb)"
   ]
  },
  {
   "cell_type": "code",
   "execution_count": 7,
   "metadata": {},
   "outputs": [],
   "source": [
    "def regenerate_node(G, node):\n",
    "    for (i, j) in G.edges(node):\n",
    "        distance[(i, j)] = random.randint(min_distance, max_distance)\n",
    "        G[i][j][\"distance\"] = distance[(i, j)]\n",
    "    D[node] = random.randint(min_D, max_D)\n",
    "    G.nodes[node][\"D\"] = D[node]"
   ]
  },
  {
   "cell_type": "code",
   "execution_count": 8,
   "metadata": {
    "scrolled": true
   },
   "outputs": [
    {
     "data": {
      "text/plain": [
       "NodeDataView({0: {'bipartite': 0, 'fixed charge': 4657}, 1: {'bipartite': 0, 'fixed charge': 3286}, 2: {'bipartite': 1, 'demand': 427, 'D': 67}, 3: {'bipartite': 1, 'demand': 157, 'D': 76}, 4: {'bipartite': 1, 'demand': 112, 'D': 79}, 5: {'bipartite': 1, 'demand': 479, 'D': 60}, 6: {'bipartite': 1, 'demand': 240, 'D': 77}, 7: {'bipartite': 1, 'demand': 225, 'D': 66}})"
      ]
     },
     "execution_count": 8,
     "metadata": {},
     "output_type": "execute_result"
    }
   ],
   "source": [
    "G.nodes(data=True)"
   ]
  },
  {
   "cell_type": "code",
   "execution_count": 9,
   "metadata": {
    "scrolled": true
   },
   "outputs": [
    {
     "data": {
      "text/plain": [
       "EdgeDataView([(0, 2, {'distance': 97}), (0, 3, {'distance': 56}), (0, 4, {'distance': 93}), (0, 5, {'distance': 97}), (0, 6, {'distance': 84}), (0, 7, {'distance': 55}), (1, 2, {'distance': 87}), (1, 3, {'distance': 77}), (1, 4, {'distance': 52}), (1, 5, {'distance': 51}), (1, 6, {'distance': 55}), (1, 7, {'distance': 63})])"
      ]
     },
     "execution_count": 9,
     "metadata": {},
     "output_type": "execute_result"
    }
   ],
   "source": [
    "G.edges(data=True)"
   ]
  },
  {
   "cell_type": "markdown",
   "metadata": {},
   "source": [
    "# Checking if the graph is correct\n",
    "Here we need to check if all demand nodes have at least one edge where the distance is less than the maximum distance.<br\\>\n",
    "If a node does not correspond to this constraint, we regenerate all the random numbers concerning the distance for this node"
   ]
  },
  {
   "cell_type": "code",
   "execution_count": 10,
   "metadata": {
    "scrolled": true
   },
   "outputs": [
    {
     "name": "stdout",
     "output_type": "stream",
     "text": [
      "Node 2 min_d 87 D 67\n",
      "Regeneration of node 2\n",
      "\n",
      "Node 2 min_d 64 D 78\n",
      "\n",
      "Node 3 min_d 56 D 76\n",
      "\n",
      "Node 4 min_d 52 D 79\n",
      "\n",
      "Node 5 min_d 51 D 60\n",
      "\n",
      "Node 6 min_d 55 D 77\n",
      "\n",
      "Node 7 min_d 55 D 66\n",
      "\n"
     ]
    }
   ],
   "source": [
    "for node in d_nodes:\n",
    "    min_d = max_demand\n",
    "    while min_d > G.nodes[node][\"D\"]:\n",
    "        for (i, j) in G.edges(node):\n",
    "            min_d = G[i][j][\"distance\"] if G[i][j][\"distance\"] < min_d else min_d\n",
    "        \n",
    "        print(\"Node\", node, \"min_d\", min_d, \"D\", G.nodes[node][\"D\"])\n",
    "        if min_d > G.nodes[node][\"D\"]:\n",
    "            print(\"Regeneration of node\",node)\n",
    "            regenerate_node(G, node)\n",
    "            min_d = max_demand\n",
    "        print()"
   ]
  },
  {
   "cell_type": "code",
   "execution_count": 11,
   "metadata": {},
   "outputs": [],
   "source": [
    "N = {i:[j for _, j in G.edges(i) if G[i][j][\"distance\"] < G.nodes[i][\"D\"]]\\\n",
    "      for i in d_nodes}"
   ]
  },
  {
   "cell_type": "code",
   "execution_count": 12,
   "metadata": {},
   "outputs": [],
   "source": [
    "hcf = gb.Model()"
   ]
  },
  {
   "cell_type": "code",
   "execution_count": 13,
   "metadata": {},
   "outputs": [],
   "source": [
    "# Variable definition\n",
    "x = hcf.addVars(c_nodes, vtype=gb.GRB.BINARY, name=\"x\")"
   ]
  },
  {
   "cell_type": "code",
   "execution_count": 14,
   "metadata": {
    "scrolled": true
   },
   "outputs": [],
   "source": [
    "# Objective function\n",
    "hcf.setObjective(x.prod(fixed_charge), gb.GRB.MINIMIZE)"
   ]
  },
  {
   "cell_type": "code",
   "execution_count": 15,
   "metadata": {},
   "outputs": [],
   "source": [
    "hcf.addConstrs((x.sum(N[i]) >= 1 for i in d_nodes), name=\"covering\")\n",
    "hcf.update()\n",
    "hcf.write('hcf1.lp')"
   ]
  },
  {
   "cell_type": "code",
   "execution_count": 16,
   "metadata": {},
   "outputs": [
    {
     "name": "stdout",
     "output_type": "stream",
     "text": [
      "Optimize a model with 6 rows, 2 columns and 7 nonzeros\n",
      "Variable types: 0 continuous, 2 integer (2 binary)\n",
      "Coefficient statistics:\n",
      "  Matrix range     [1e+00, 1e+00]\n",
      "  Objective range  [3e+03, 5e+03]\n",
      "  Bounds range     [1e+00, 1e+00]\n",
      "  RHS range        [1e+00, 1e+00]\n",
      "Found heuristic solution: objective 7943.0000000\n",
      "Presolve removed 6 rows and 2 columns\n",
      "Presolve time: 0.00s\n",
      "Presolve: All rows and columns removed\n",
      "\n",
      "Explored 0 nodes (0 simplex iterations) in 0.01 seconds\n",
      "Thread count was 1 (of 8 available processors)\n",
      "\n",
      "Solution count 1: 7943 \n",
      "\n",
      "Optimal solution found (tolerance 1.00e-04)\n",
      "Best objective 7.943000000000e+03, best bound 7.943000000000e+03, gap 0.0000%\n"
     ]
    }
   ],
   "source": [
    "hcf.optimize()"
   ]
  },
  {
   "cell_type": "markdown",
   "metadata": {},
   "source": [
    "# Solution Drawing"
   ]
  },
  {
   "cell_type": "code",
   "execution_count": 17,
   "metadata": {
    "scrolled": false
   },
   "outputs": [
    {
     "data": {
      "image/png": "[encoded data removed]",
      "text/plain": [
       "<matplotlib.figure.Figure at 0x7f98b744ee10>"
      ]
     },
     "metadata": {},
     "output_type": "display_data"
    }
   ],
   "source": [
    "%matplotlib inline\n",
    "plt.figure(figsize=(demand_nb // 2 + 10, demand_nb // 2 + 10))\n",
    "\n",
    "pos = nx.spring_layout(G)\n",
    "\n",
    "activated_edge = [(i, j) for i in d_nodes for j in N[i] if x[j].x > 0]\n",
    "not_activated_edge = [(i, j) for i in d_nodes for j in N[i] if x[j].x <= 0]\n",
    "\n",
    "nx.draw_networkx_edges (G, pos, edgelist=activated_edge, edge_color='r', width = 1.2)\n",
    "nx.draw_networkx_edges (G, pos, edgelist=not_activated_edge, edge_color='black', width=0.5, alpha = 0.5)\n",
    "\n",
    "nodelab = {i:i for i in G.nodes()}\n",
    "\n",
    "active_facility = [i for i in c_nodes if x[i].x > 0]\n",
    "not_active_facility = [i for i in c_nodes if x[i].x <= 0]\n",
    "\n",
    "nx.draw_networkx_nodes(G, pos, with_labels=True, node_size=1000, nodelist=active_facility + list(d_nodes), node_color ='r')\n",
    "nx.draw_networkx_nodes(G, pos, with_labels=True, node_size=1000, nodelist=not_active_facility, node_color ='#A0CBE2')\n",
    "\n",
    "nx.draw_networkx_labels(G, pos, labels=nodelab);\n",
    "nx.draw(G, pos, with_labels=True,  alpha=0.0, node_color ='b', node_size=500, nodelabels=nodelab)\n"
   ]
  }
 ],
 "metadata": {
  "kernelspec": {
   "display_name": "Python 3",
   "language": "python",
   "name": "python3"
  },
  "language_info": {
   "codemirror_mode": {
    "name": "ipython",
    "version": 3
   },
   "file_extension": ".py",
   "mimetype": "text/x-python",
   "name": "python",
   "nbconvert_exporter": "python",
   "pygments_lexer": "ipython3",
   "version": "3.6.0"
  }
 },
 "nbformat": 4,
 "nbformat_minor": 2
}
